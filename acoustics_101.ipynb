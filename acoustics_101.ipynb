{
 "cells": [
  {
   "cell_type": "code",
   "execution_count": 13,
   "metadata": {},
   "outputs": [],
   "source": [
    "import numpy as np\n",
    "import matplotlib.pyplot as plt\n",
    "from scipy.fft import fft, fftfreq"
   ]
  },
  {
   "cell_type": "markdown",
   "metadata": {},
   "source": [
    "# Sound Pressure\n",
    "A sound can be described by means of the time-varying sound pressure, $p(t)$. The unit for sound pressure is the pascal, $Pa$. \n",
    "<br>\n",
    "<br>\n",
    "The following sound pressure thresholds are relevant in psychoacoustics:\n",
    "- Absolute Threshold: $10^{-5} Pa$\n",
    "- Pain Threshold: $10^2 Pa$ \n",
    "\n",
    "The sound pressure level, $L$, is a logrithmic measure of sound pressure. The relationship between the sound pressure and the sound pressure level is as follows:\n",
    "$$ L = 20 log \\left( \\frac{p}{p_0} \\right) dB $$\n",
    "where $p_0$ is the reference value of the sound pressure, standardized to:\n",
    "$$ p_0 = 20 \\mu Pa $$"
   ]
  },
  {
   "cell_type": "code",
   "execution_count": 2,
   "metadata": {},
   "outputs": [],
   "source": [
    "def sound_pressure_level(p):\n",
    "    \"\"\"Calculate the sound pressure level\n",
    "\n",
    "    Parameters\n",
    "    ----------\n",
    "    p : float\n",
    "        sound pressure (Pa)\n",
    "\n",
    "    \"\"\"\n",
    "    p0 = 20e-6\n",
    "    return 20 * np.log10(p/p0)"
   ]
  },
  {
   "cell_type": "markdown",
   "metadata": {},
   "source": [
    "# Sound Intensity\n",
    "Sound intensity, $I$, is related to sound pressure level as follows:\n",
    "$$ L = 20 log \\left( \\frac{p}{p_0} \\right) dB = 10 log \\left( \\frac{I}{I_0} \\right) dB$$\n",
    "where $I_0$ is the reference value of sound intensity, standardized to:\n",
    "$$ I_0 = 10^{-12} \\frac{W}{m^2} $$"
   ]
  },
  {
   "cell_type": "code",
   "execution_count": null,
   "metadata": {},
   "outputs": [],
   "source": [
    "def sound_intensity_level(I):\n",
    "    \"\"\"Calculate the sound intensity level\n",
    "\n",
    "    Parameters\n",
    "    ----------\n",
    "    I : float\n",
    "        sound intensity (W/m^2)\n",
    "\n",
    "    \"\"\"\n",
    "    I0 = 10e-12\n",
    "    return 10 * np.log10(I/I0)"
   ]
  },
  {
   "cell_type": "markdown",
   "metadata": {},
   "source": [
    "# Sound Density\n",
    "Sound density is a measure of the sound intensity within a bandwidth of 1 Hz. It is useful measure when dealing with noises. The sound density is sometimes referred to as \"noise power density\", although this is not quite correct. The sound density level, $l$, is a logrithmic measure of sound density. For white noise, where the sound density level is independent of frequency, the sound desity level can be calculated using the following equation:\n",
    "$$ l = L - 10 log \\left( \\frac{\\Delta f}{Hz} \\right) dB $$\n",
    "where $\\Delta f$ represents the bandwidth of the sound in question measured in Hz."
   ]
  },
  {
   "cell_type": "code",
   "execution_count": null,
   "metadata": {},
   "outputs": [],
   "source": [
    "def sound_density_level_for_white_noise(L, delta_f):\n",
    "    \"\"\"Calculate the sound density level for white noise in dB\n",
    "\n",
    "    Parameters\n",
    "    ----------\n",
    "    L : float\n",
    "        sound pressure level or sound intensity level (dB)\n",
    "    delta_f : float\n",
    "        bandwidth (Hz)\n",
    "\n",
    "    \"\"\"\n",
    "    return L - 10 * np.log10(delta_f)"
   ]
  },
  {
   "cell_type": "markdown",
   "metadata": {},
   "source": [
    " # Commonly Used Stimuli in Psychoacoustics\n",
    " Illustrated below are several time functions and associated frequency spectra of stimuli commonly used in psychoacoustics.\n",
    " <br>\n",
    " <br>\n",
    "![](images/audio_stimuli.png)\n",
    "<br>From \"_Psychoacoustics: Facts and models_\" (4th ed., pp. 2–2) by Fastl, H., &amp; Zwicker, E. (2010)."
   ]
  },
  {
   "cell_type": "markdown",
   "metadata": {},
   "source": [
    "## Tone\n",
    "A tone is a continuous sinusoidal oscillation of the sound pressure $p$, as a function of time $t$. The equation for a tone is:\n",
    "$$ p(t) = A sin(2 \\pi f t + \\theta) $$\n",
    "where $A$ is the amplitude of the pressure change, $f$ is the tone frequency and $\\theta$ is the phase of the sinusoidal oscillation. \n",
    "<br>\n",
    "In the frequency domain, a pure tone results in a single spectral component at the tone frequency."
   ]
  },
  {
   "cell_type": "code",
   "execution_count": 24,
   "metadata": {},
   "outputs": [
    {
     "data": {
      "text/plain": [
       "(0.0, 2000.0)"
      ]
     },
     "execution_count": 24,
     "metadata": {},
     "output_type": "execute_result"
    },
    {
     "data": {
      "image/png": "[encoded data removed]",
      "text/plain": [
       "<Figure size 432x288 with 2 Axes>"
      ]
     },
     "metadata": {
      "needs_background": "light"
     },
     "output_type": "display_data"
    }
   ],
   "source": [
    "%matplotlib inline\n",
    "\n",
    "# Sample rate\n",
    "Fs = 48e3\n",
    "\n",
    "# Sample period\n",
    "Ts = 1/Fs\n",
    "\n",
    "# Tone frequency\n",
    "f_tone = 1e3\n",
    "\n",
    "# Tone phase\n",
    "theta_tone = 0\n",
    "\n",
    "# Number of periods to plot\n",
    "num_periods = 4\n",
    "\n",
    "# Time\n",
    "time = np.arange(0, 1, Ts)\n",
    "time_ms = time * 1000\n",
    "\n",
    "# Generate tone\n",
    "tone = np.sin(2 * np.pi * f_tone * time + theta_tone)\n",
    "\n",
    "# Create figure\n",
    "fig, (ax_time, ax_freq) = plt.subplots(2, 1, constrained_layout=True)\n",
    "\n",
    "# Plot tone in the time domain\n",
    "ax_time.grid()\n",
    "ax_time.plot(time_ms, tone)\n",
    "ax_time.set_title('{0} kHz Tone in the Time Domain'.format(f_tone/1000))\n",
    "ax_time.set_xlabel('Time (ms)')\n",
    "ax_time.set_ylabel('Pressure')\n",
    "ax_time.set_xlim((0, num_periods / f_tone * 1000))\n",
    "\n",
    "# Plot tone in the frequency domain\n",
    "N = len(time)\n",
    "tone_fft = fft(tone)\n",
    "freq = fftfreq(N, Ts)[:N//2]\n",
    "ax_freq.grid()\n",
    "ax_freq.plot(freq, 2.0/N * np.abs(tone_fft[0:N//2]))\n",
    "ax_freq.set_title('{0} kHz Tone in the Frequency Domain'.format(f_tone/1000))\n",
    "ax_freq.set_xlabel('Frequency (Hz)')\n",
    "ax_freq.set_ylabel('Pressure')\n",
    "ax_freq.set_xlim((0, 2*f_tone))"
   ]
  }
 ],
 "metadata": {
  "interpreter": {
   "hash": "73a666d948711064f59d854e9125f239b700b6d583285c0d9848266fb8325020"
  },
  "kernelspec": {
   "display_name": "Python 3.8.8 64-bit ('base': conda)",
   "name": "python3"
  },
  "language_info": {
   "codemirror_mode": {
    "name": "ipython",
    "version": 3
   },
   "file_extension": ".py",
   "mimetype": "text/x-python",
   "name": "python",
   "nbconvert_exporter": "python",
   "pygments_lexer": "ipython3",
   "version": "3.8.8"
  },
  "orig_nbformat": 4
 },
 "nbformat": 4,
 "nbformat_minor": 2
}
