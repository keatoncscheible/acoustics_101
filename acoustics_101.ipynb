{
 "cells": [
  {
   "cell_type": "code",
   "execution_count": 1,
   "metadata": {},
   "outputs": [],
   "source": [
    "import math"
   ]
  },
  {
   "cell_type": "markdown",
   "metadata": {},
   "source": [
    "# Sound Pressure\n",
    "A sound can be described by means of the time-varying sound pressure, $p(t)$. The unit for sound pressure is the pascal, $Pa$. \n",
    "<br>\n",
    "<br>\n",
    "The following sound pressure thresholds are relevant in psychoacoustics:\n",
    "- Absolute Threshold: $10^{-5} Pa$\n",
    "- Pain Threshold: $10^2 Pa$ \n",
    "\n",
    "The sound pressure level, $L$, is a logrithmic measure of sound pressure. The relationship between the sound pressure and the sound pressure level is as follows:\n",
    "$$ L = 20 log \\left( \\frac{p}{p_0} \\right) dB $$\n",
    "where $ p_0 $ is the reference value of the sound pressure and is standardized to:\n",
    "$$ p_0 = 20 \\mu Pa $$"
   ]
  },
  {
   "cell_type": "code",
   "execution_count": 2,
   "metadata": {},
   "outputs": [],
   "source": [
    "def sound_pressure_level(p):\n",
    "    \"\"\"Calculate the sound pressure level in Pa\n",
    "\n",
    "    Parameters\n",
    "    ----------\n",
    "    p : float\n",
    "        sound pressure (Pa)\n",
    "\n",
    "    \"\"\"\n",
    "    p0 = 20e-6\n",
    "    return 20 * math.log10(p/p0)"
   ]
  }
 ],
 "metadata": {
  "interpreter": {
   "hash": "73a666d948711064f59d854e9125f239b700b6d583285c0d9848266fb8325020"
  },
  "kernelspec": {
   "display_name": "Python 3.8.8 64-bit ('base': conda)",
   "name": "python3"
  },
  "language_info": {
   "codemirror_mode": {
    "name": "ipython",
    "version": 3
   },
   "file_extension": ".py",
   "mimetype": "text/x-python",
   "name": "python",
   "nbconvert_exporter": "python",
   "pygments_lexer": "ipython3",
   "version": "3.8.8"
  },
  "orig_nbformat": 4
 },
 "nbformat": 4,
 "nbformat_minor": 2
}
