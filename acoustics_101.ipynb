{
 "cells": [
  {
   "cell_type": "code",
   "execution_count": 1,
   "metadata": {},
   "outputs": [],
   "source": [
    "import math"
   ]
  },
  {
   "cell_type": "markdown",
   "metadata": {},
   "source": [
    "# Sound Pressure\n",
    "A sound can be described by means of the time-varying sound pressure, $p(t)$. The unit for sound pressure is the pascal, $Pa$. \n",
    "<br>\n",
    "<br>\n",
    "The following sound pressure thresholds are relevant in psychoacoustics:\n",
    "- Absolute Threshold: $10^{-5} Pa$\n",
    "- Pain Threshold: $10^2 Pa$ \n",
    "\n",
    "The sound pressure level, $L$, is a logrithmic measure of sound pressure. The relationship between the sound pressure and the sound pressure level is as follows:\n",
    "$$ L = 20 log \\left( \\frac{p}{p_0} \\right) dB $$\n",
    "where $p_0$ is the reference value of the sound pressure, standardized to:\n",
    "$$ p_0 = 20 \\mu Pa $$"
   ]
  },
  {
   "cell_type": "code",
   "execution_count": 2,
   "metadata": {},
   "outputs": [],
   "source": [
    "def sound_pressure_level(p):\n",
    "    \"\"\"Calculate the sound pressure level\n",
    "\n",
    "    Parameters\n",
    "    ----------\n",
    "    p : float\n",
    "        sound pressure (Pa)\n",
    "\n",
    "    \"\"\"\n",
    "    p0 = 20e-6\n",
    "    return 20 * math.log10(p/p0)"
   ]
  },
  {
   "cell_type": "markdown",
   "metadata": {},
   "source": [
    "# Sound Intensity\n",
    "Sound intensity, $I$, is related to sound pressure level as follows:\n",
    "$$ L = 20 log \\left( \\frac{p}{p_0} \\right) dB = 10 log \\left( \\frac{I}{I_0} \\right) dB$$\n",
    "where $I_0$ is the reference value of sound intensity, standardized to:\n",
    "$$ I_0 = 10^{-12} \\frac{W}{m^2} $$"
   ]
  },
  {
   "cell_type": "code",
   "execution_count": null,
   "metadata": {},
   "outputs": [],
   "source": [
    "def sound_intensity_level(I):\n",
    "    \"\"\"Calculate the sound intensity level\n",
    "\n",
    "    Parameters\n",
    "    ----------\n",
    "    I : float\n",
    "        sound intensity (W/m^2)\n",
    "\n",
    "    \"\"\"\n",
    "    I0 = 10e-12\n",
    "    return 10 * math.log10(I/I0)"
   ]
  },
  {
   "cell_type": "markdown",
   "metadata": {},
   "source": [
    "# Sound Density\n",
    "Sound density is a measure of the sound intensity within a bandwidth of 1 Hz. It is useful measure when dealing with noises. The sound density is sometimes referred to as \"noise power density\", although this is not quite correct. The sound density level, $l$, is a logrithmic measure of sound density. It can be calculated as follows:\n",
    "$$ l = L - 10 log \\left( \\frac{\\Delta f}{Hz} \\right) dB $$\n",
    "where $\\Delta f$ represents the bandwidth of the sound in question measured in Hz."
   ]
  },
  {
   "cell_type": "code",
   "execution_count": null,
   "metadata": {},
   "outputs": [],
   "source": [
    "def sound_density_level(L, delta_f):\n",
    "    \"\"\"Calculate the sound density level\n",
    "\n",
    "    Parameters\n",
    "    ----------\n",
    "    L : float\n",
    "        sound pressure level or sound intensity level (dB)\n",
    "    delta_f : float\n",
    "        bandwidth (Hz)\n",
    "\n",
    "    \"\"\"\n",
    "    return L - 10 * math.log10(delta_f)"
   ]
  }
 ],
 "metadata": {
  "interpreter": {
   "hash": "73a666d948711064f59d854e9125f239b700b6d583285c0d9848266fb8325020"
  },
  "kernelspec": {
   "display_name": "Python 3.8.8 64-bit ('base': conda)",
   "name": "python3"
  },
  "language_info": {
   "codemirror_mode": {
    "name": "ipython",
    "version": 3
   },
   "file_extension": ".py",
   "mimetype": "text/x-python",
   "name": "python",
   "nbconvert_exporter": "python",
   "pygments_lexer": "ipython3",
   "version": "3.8.8"
  },
  "orig_nbformat": 4
 },
 "nbformat": 4,
 "nbformat_minor": 2
}
